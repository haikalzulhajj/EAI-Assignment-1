{
 "cells": [
  {
   "cell_type": "code",
   "execution_count": 16,
   "metadata": {},
   "outputs": [
    {
     "name": "stdout",
     "output_type": "stream",
     "text": [
      "[{'team': {'name': 'Real Madrid', 'logo': 'https://a.espncdn.com/i/teamlogos/soccer/500/86.png', 'abbreviation': 'RMA'}, 'stats': {'wins': 22, 'losses': 1, 'ties': 6, 'gamesPlayed': 29, 'goalsFor': 64, 'goalsAgainst': 20, 'points': 72, 'rank': 1, 'goalDifference': 44}}, {'team': {'name': 'Barcelona', 'logo': 'https://a.espncdn.com/i/teamlogos/soccer/500/83.png', 'abbreviation': 'BAR'}, 'stats': {'wins': 19, 'losses': 3, 'ties': 7, 'gamesPlayed': 29, 'goalsFor': 60, 'goalsAgainst': 34, 'points': 64, 'rank': 2, 'goalDifference': 26}}, {'team': {'name': 'Girona', 'logo': 'https://a.espncdn.com/i/teamlogos/soccer/500/9812.png', 'abbreviation': 'GIR'}, 'stats': {'wins': 19, 'losses': 5, 'ties': 5, 'gamesPlayed': 29, 'goalsFor': 59, 'goalsAgainst': 34, 'points': 62, 'rank': 3, 'goalDifference': 25}}, {'team': {'name': 'Athletic Club', 'logo': 'https://a.espncdn.com/i/teamlogos/soccer/500/93.png', 'abbreviation': 'ATH'}, 'stats': {'wins': 16, 'losses': 5, 'ties': 8, 'gamesPlayed': 29, 'goalsFor': 50, 'goalsAgainst': 26, 'points': 56, 'rank': 4, 'goalDifference': 24}}, {'team': {'name': 'Atlético Madrid', 'logo': 'https://a.espncdn.com/i/teamlogos/soccer/500/1068.png', 'abbreviation': 'ATM'}, 'stats': {'wins': 17, 'losses': 8, 'ties': 4, 'gamesPlayed': 29, 'goalsFor': 54, 'goalsAgainst': 34, 'points': 55, 'rank': 5, 'goalDifference': 20}}, {'team': {'name': 'Real Sociedad', 'logo': 'https://a.espncdn.com/i/teamlogos/soccer/500/89.png', 'abbreviation': 'RSO'}, 'stats': {'wins': 12, 'losses': 7, 'ties': 10, 'gamesPlayed': 29, 'goalsFor': 42, 'goalsAgainst': 31, 'points': 46, 'rank': 6, 'goalDifference': 11}}, {'team': {'name': 'Real Betis', 'logo': 'https://a.espncdn.com/i/teamlogos/soccer/500/244.png', 'abbreviation': 'BET'}, 'stats': {'wins': 10, 'losses': 7, 'ties': 12, 'gamesPlayed': 29, 'goalsFor': 34, 'goalsAgainst': 33, 'points': 42, 'rank': 7, 'goalDifference': 1}}, {'team': {'name': 'Valencia', 'logo': 'https://a.espncdn.com/i/teamlogos/soccer/500/94.png', 'abbreviation': 'VAL'}, 'stats': {'wins': 11, 'losses': 10, 'ties': 7, 'gamesPlayed': 28, 'goalsFor': 32, 'goalsAgainst': 32, 'points': 40, 'rank': 8, 'goalDifference': 0}}, {'team': {'name': 'Villarreal', 'logo': 'https://a.espncdn.com/i/teamlogos/soccer/500/102.png', 'abbreviation': 'VIL'}, 'stats': {'wins': 10, 'losses': 11, 'ties': 8, 'gamesPlayed': 29, 'goalsFor': 47, 'goalsAgainst': 51, 'points': 38, 'rank': 9, 'goalDifference': -4}}, {'team': {'name': 'Getafe', 'logo': 'https://a.espncdn.com/i/teamlogos/soccer/500/2922.png', 'abbreviation': 'GET'}, 'stats': {'wins': 9, 'losses': 9, 'ties': 11, 'gamesPlayed': 29, 'goalsFor': 37, 'goalsAgainst': 42, 'points': 38, 'rank': 10, 'goalDifference': -5}}, {'team': {'name': 'Las Palmas', 'logo': 'https://a.espncdn.com/i/teamlogos/soccer/500/98.png', 'abbreviation': 'LPA'}, 'stats': {'wins': 10, 'losses': 12, 'ties': 7, 'gamesPlayed': 29, 'goalsFor': 29, 'goalsAgainst': 32, 'points': 37, 'rank': 11, 'goalDifference': -3}}, {'team': {'name': 'Osasuna', 'logo': 'https://a.espncdn.com/i/teamlogos/soccer/500/97.png', 'abbreviation': 'OSA'}, 'stats': {'wins': 10, 'losses': 13, 'ties': 6, 'gamesPlayed': 29, 'goalsFor': 33, 'goalsAgainst': 43, 'points': 36, 'rank': 12, 'goalDifference': -10}}, {'team': {'name': 'Alavés', 'logo': 'https://a.espncdn.com/i/teamlogos/soccer/500/96.png', 'abbreviation': 'ALA'}, 'stats': {'wins': 8, 'losses': 13, 'ties': 8, 'gamesPlayed': 29, 'goalsFor': 26, 'goalsAgainst': 35, 'points': 32, 'rank': 13, 'goalDifference': -9}}, {'team': {'name': 'Mallorca', 'logo': 'https://a.espncdn.com/i/teamlogos/soccer/500/84.png', 'abbreviation': 'MLL'}, 'stats': {'wins': 6, 'losses': 11, 'ties': 12, 'gamesPlayed': 29, 'goalsFor': 25, 'goalsAgainst': 35, 'points': 30, 'rank': 14, 'goalDifference': -10}}, {'team': {'name': 'Rayo Vallecano', 'logo': 'https://a.espncdn.com/i/teamlogos/soccer/500/101.png', 'abbreviation': 'RAY'}, 'stats': {'wins': 6, 'losses': 12, 'ties': 11, 'gamesPlayed': 29, 'goalsFor': 25, 'goalsAgainst': 38, 'points': 29, 'rank': 15, 'goalDifference': -13}}, {'team': {'name': 'Sevilla', 'logo': 'https://a.espncdn.com/i/teamlogos/soccer/500/243.png', 'abbreviation': 'SEV'}, 'stats': {'wins': 6, 'losses': 13, 'ties': 10, 'gamesPlayed': 29, 'goalsFor': 36, 'goalsAgainst': 44, 'points': 28, 'rank': 16, 'goalDifference': -8}}, {'team': {'name': 'Celta Vigo', 'logo': 'https://a.espncdn.com/i/teamlogos/soccer/500/85.png', 'abbreviation': 'CEL'}, 'stats': {'wins': 6, 'losses': 14, 'ties': 9, 'gamesPlayed': 29, 'goalsFor': 32, 'goalsAgainst': 44, 'points': 27, 'rank': 17, 'goalDifference': -12}}, {'team': {'name': 'Cádiz', 'logo': 'https://a.espncdn.com/i/teamlogos/soccer/500/3842.png', 'abbreviation': 'CAD'}, 'stats': {'wins': 3, 'losses': 13, 'ties': 13, 'gamesPlayed': 29, 'goalsFor': 20, 'goalsAgainst': 40, 'points': 22, 'rank': 18, 'goalDifference': -20}}, {'team': {'name': 'Granada', 'logo': 'https://a.espncdn.com/i/teamlogos/soccer/500/3747.png', 'abbreviation': 'GRA'}, 'stats': {'wins': 2, 'losses': 18, 'ties': 8, 'gamesPlayed': 28, 'goalsFor': 30, 'goalsAgainst': 58, 'points': 14, 'rank': 19, 'goalDifference': -28}}, {'team': {'name': 'Almería', 'logo': 'https://a.espncdn.com/i/teamlogos/soccer/500/6832.png', 'abbreviation': 'ALM'}, 'stats': {'wins': 1, 'losses': 18, 'ties': 10, 'gamesPlayed': 29, 'goalsFor': 28, 'goalsAgainst': 57, 'points': 13, 'rank': 20, 'goalDifference': -29}}]\n"
     ]
    }
   ],
   "source": [
    "import requests\n",
    "\n",
    "url = \"https://laliga-standings.p.rapidapi.com/\"\n",
    "\n",
    "headers = {\n",
    "\t\"X-RapidAPI-Key\": \"2c77b7c146mshee12c86f6c15d8ep11b2e9jsne53232e788ae\",\n",
    "\t\"X-RapidAPI-Host\": \"laliga-standings.p.rapidapi.com\"\n",
    "}\n",
    "\n",
    "response = requests.get(url, headers=headers)\n",
    "\n",
    "print(response.json())"
   ]
  },
  {
   "cell_type": "code",
   "execution_count": 18,
   "metadata": {},
   "outputs": [
    {
     "data": {
      "text/plain": [
       "list"
      ]
     },
     "execution_count": 18,
     "metadata": {},
     "output_type": "execute_result"
    }
   ],
   "source": [
    "type(response.json())"
   ]
  },
  {
   "cell_type": "code",
   "execution_count": 19,
   "metadata": {},
   "outputs": [],
   "source": [
    "laliga = response.json()"
   ]
  },
  {
   "cell_type": "code",
   "execution_count": 20,
   "metadata": {},
   "outputs": [
    {
     "name": "stdout",
     "output_type": "stream",
     "text": [
      "{'team': {'name': 'Real Madrid', 'logo': 'https://a.espncdn.com/i/teamlogos/soccer/500/86.png', 'abbreviation': 'RMA'}, 'stats': {'wins': 22, 'losses': 1, 'ties': 6, 'gamesPlayed': 29, 'goalsFor': 64, 'goalsAgainst': 20, 'points': 72, 'rank': 1, 'goalDifference': 44}}\n",
      "{'team': {'name': 'Barcelona', 'logo': 'https://a.espncdn.com/i/teamlogos/soccer/500/83.png', 'abbreviation': 'BAR'}, 'stats': {'wins': 19, 'losses': 3, 'ties': 7, 'gamesPlayed': 29, 'goalsFor': 60, 'goalsAgainst': 34, 'points': 64, 'rank': 2, 'goalDifference': 26}}\n",
      "{'team': {'name': 'Girona', 'logo': 'https://a.espncdn.com/i/teamlogos/soccer/500/9812.png', 'abbreviation': 'GIR'}, 'stats': {'wins': 19, 'losses': 5, 'ties': 5, 'gamesPlayed': 29, 'goalsFor': 59, 'goalsAgainst': 34, 'points': 62, 'rank': 3, 'goalDifference': 25}}\n",
      "{'team': {'name': 'Athletic Club', 'logo': 'https://a.espncdn.com/i/teamlogos/soccer/500/93.png', 'abbreviation': 'ATH'}, 'stats': {'wins': 16, 'losses': 5, 'ties': 8, 'gamesPlayed': 29, 'goalsFor': 50, 'goalsAgainst': 26, 'points': 56, 'rank': 4, 'goalDifference': 24}}\n",
      "{'team': {'name': 'Atlético Madrid', 'logo': 'https://a.espncdn.com/i/teamlogos/soccer/500/1068.png', 'abbreviation': 'ATM'}, 'stats': {'wins': 17, 'losses': 8, 'ties': 4, 'gamesPlayed': 29, 'goalsFor': 54, 'goalsAgainst': 34, 'points': 55, 'rank': 5, 'goalDifference': 20}}\n",
      "{'team': {'name': 'Real Sociedad', 'logo': 'https://a.espncdn.com/i/teamlogos/soccer/500/89.png', 'abbreviation': 'RSO'}, 'stats': {'wins': 12, 'losses': 7, 'ties': 10, 'gamesPlayed': 29, 'goalsFor': 42, 'goalsAgainst': 31, 'points': 46, 'rank': 6, 'goalDifference': 11}}\n",
      "{'team': {'name': 'Real Betis', 'logo': 'https://a.espncdn.com/i/teamlogos/soccer/500/244.png', 'abbreviation': 'BET'}, 'stats': {'wins': 10, 'losses': 7, 'ties': 12, 'gamesPlayed': 29, 'goalsFor': 34, 'goalsAgainst': 33, 'points': 42, 'rank': 7, 'goalDifference': 1}}\n",
      "{'team': {'name': 'Valencia', 'logo': 'https://a.espncdn.com/i/teamlogos/soccer/500/94.png', 'abbreviation': 'VAL'}, 'stats': {'wins': 11, 'losses': 10, 'ties': 7, 'gamesPlayed': 28, 'goalsFor': 32, 'goalsAgainst': 32, 'points': 40, 'rank': 8, 'goalDifference': 0}}\n",
      "{'team': {'name': 'Villarreal', 'logo': 'https://a.espncdn.com/i/teamlogos/soccer/500/102.png', 'abbreviation': 'VIL'}, 'stats': {'wins': 10, 'losses': 11, 'ties': 8, 'gamesPlayed': 29, 'goalsFor': 47, 'goalsAgainst': 51, 'points': 38, 'rank': 9, 'goalDifference': -4}}\n",
      "{'team': {'name': 'Getafe', 'logo': 'https://a.espncdn.com/i/teamlogos/soccer/500/2922.png', 'abbreviation': 'GET'}, 'stats': {'wins': 9, 'losses': 9, 'ties': 11, 'gamesPlayed': 29, 'goalsFor': 37, 'goalsAgainst': 42, 'points': 38, 'rank': 10, 'goalDifference': -5}}\n",
      "{'team': {'name': 'Las Palmas', 'logo': 'https://a.espncdn.com/i/teamlogos/soccer/500/98.png', 'abbreviation': 'LPA'}, 'stats': {'wins': 10, 'losses': 12, 'ties': 7, 'gamesPlayed': 29, 'goalsFor': 29, 'goalsAgainst': 32, 'points': 37, 'rank': 11, 'goalDifference': -3}}\n",
      "{'team': {'name': 'Osasuna', 'logo': 'https://a.espncdn.com/i/teamlogos/soccer/500/97.png', 'abbreviation': 'OSA'}, 'stats': {'wins': 10, 'losses': 13, 'ties': 6, 'gamesPlayed': 29, 'goalsFor': 33, 'goalsAgainst': 43, 'points': 36, 'rank': 12, 'goalDifference': -10}}\n",
      "{'team': {'name': 'Alavés', 'logo': 'https://a.espncdn.com/i/teamlogos/soccer/500/96.png', 'abbreviation': 'ALA'}, 'stats': {'wins': 8, 'losses': 13, 'ties': 8, 'gamesPlayed': 29, 'goalsFor': 26, 'goalsAgainst': 35, 'points': 32, 'rank': 13, 'goalDifference': -9}}\n",
      "{'team': {'name': 'Mallorca', 'logo': 'https://a.espncdn.com/i/teamlogos/soccer/500/84.png', 'abbreviation': 'MLL'}, 'stats': {'wins': 6, 'losses': 11, 'ties': 12, 'gamesPlayed': 29, 'goalsFor': 25, 'goalsAgainst': 35, 'points': 30, 'rank': 14, 'goalDifference': -10}}\n",
      "{'team': {'name': 'Rayo Vallecano', 'logo': 'https://a.espncdn.com/i/teamlogos/soccer/500/101.png', 'abbreviation': 'RAY'}, 'stats': {'wins': 6, 'losses': 12, 'ties': 11, 'gamesPlayed': 29, 'goalsFor': 25, 'goalsAgainst': 38, 'points': 29, 'rank': 15, 'goalDifference': -13}}\n",
      "{'team': {'name': 'Sevilla', 'logo': 'https://a.espncdn.com/i/teamlogos/soccer/500/243.png', 'abbreviation': 'SEV'}, 'stats': {'wins': 6, 'losses': 13, 'ties': 10, 'gamesPlayed': 29, 'goalsFor': 36, 'goalsAgainst': 44, 'points': 28, 'rank': 16, 'goalDifference': -8}}\n",
      "{'team': {'name': 'Celta Vigo', 'logo': 'https://a.espncdn.com/i/teamlogos/soccer/500/85.png', 'abbreviation': 'CEL'}, 'stats': {'wins': 6, 'losses': 14, 'ties': 9, 'gamesPlayed': 29, 'goalsFor': 32, 'goalsAgainst': 44, 'points': 27, 'rank': 17, 'goalDifference': -12}}\n",
      "{'team': {'name': 'Cádiz', 'logo': 'https://a.espncdn.com/i/teamlogos/soccer/500/3842.png', 'abbreviation': 'CAD'}, 'stats': {'wins': 3, 'losses': 13, 'ties': 13, 'gamesPlayed': 29, 'goalsFor': 20, 'goalsAgainst': 40, 'points': 22, 'rank': 18, 'goalDifference': -20}}\n",
      "{'team': {'name': 'Granada', 'logo': 'https://a.espncdn.com/i/teamlogos/soccer/500/3747.png', 'abbreviation': 'GRA'}, 'stats': {'wins': 2, 'losses': 18, 'ties': 8, 'gamesPlayed': 28, 'goalsFor': 30, 'goalsAgainst': 58, 'points': 14, 'rank': 19, 'goalDifference': -28}}\n",
      "{'team': {'name': 'Almería', 'logo': 'https://a.espncdn.com/i/teamlogos/soccer/500/6832.png', 'abbreviation': 'ALM'}, 'stats': {'wins': 1, 'losses': 18, 'ties': 10, 'gamesPlayed': 29, 'goalsFor': 28, 'goalsAgainst': 57, 'points': 13, 'rank': 20, 'goalDifference': -29}}\n"
     ]
    }
   ],
   "source": [
    "for i in laliga:\n",
    "    print(i)"
   ]
  }
 ],
 "metadata": {
  "kernelspec": {
   "display_name": "Python 3",
   "language": "python",
   "name": "python3"
  },
  "language_info": {
   "codemirror_mode": {
    "name": "ipython",
    "version": 3
   },
   "file_extension": ".py",
   "mimetype": "text/x-python",
   "name": "python",
   "nbconvert_exporter": "python",
   "pygments_lexer": "ipython3",
   "version": "3.9.13"
  },
  "orig_nbformat": 4,
  "vscode": {
   "interpreter": {
    "hash": "8f8cf99212f81ad0c4765861267244807ee1c18364846cdce387b28994a977ba"
   }
  }
 },
 "nbformat": 4,
 "nbformat_minor": 2
}
